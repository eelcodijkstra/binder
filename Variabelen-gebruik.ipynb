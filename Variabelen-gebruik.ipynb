{
 "cells": [
  {
   "cell_type": "markdown",
   "metadata": {},
   "source": [
    "## Over het gebruik van variabelen\n",
    "\n",
    "In een vorig notebook hebben we gezien wat de betekenis is van de verschillende programmaconstructies, voor het invoeren van een nieuwe variabele (declaratie), voor het toekennen van een waarde aan een variabele (assignment), en voor het gebruik van een variabele in een expressie.\n",
    "\n",
    "In dit notebook geven we een aantal voorbeelden van het gebruik van variabelen. Dit is maar een eerste inleiding: in latere notebooks gaan we hier verder op in.\n",
    "\n",
    "* representeren van de toestand van het systeem (\"model\");\n",
    "* interface tussen twee deelsystemen; definitie en gebruik (vgl. style, event handlers);\n",
    "* hulpvariabelen bij een berekening;\n",
    "* teller (e.g., score bij een game);\n",
    "* loopvariabele;\n",
    "* ...\n"
   ]
  },
  {
   "cell_type": "code",
   "execution_count": null,
   "metadata": {
    "collapsed": true
   },
   "outputs": [],
   "source": []
  }
 ],
 "metadata": {
  "kernelspec": {
   "display_name": "Python 3",
   "language": "python",
   "name": "python3"
  },
  "language_info": {
   "codemirror_mode": {
    "name": "ipython",
    "version": 3
   },
   "file_extension": ".py",
   "mimetype": "text/x-python",
   "name": "python",
   "nbconvert_exporter": "python",
   "pygments_lexer": "ipython3",
   "version": "3.4.3"
  }
 },
 "nbformat": 4,
 "nbformat_minor": 0
}
