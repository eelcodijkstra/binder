{
 "cells": [
  {
   "cell_type": "markdown",
   "metadata": {},
   "source": [
    "## Over programma's, processen, en resultaten\n",
    "\n",
    "[Terug naar de index](Overzicht.ipynb)"
   ]
  },
  {
   "cell_type": "markdown",
   "metadata": {},
   "source": [
    "## Begrippen\n",
    "\n",
    "* algoritme\n",
    "* programmeertaal\n",
    "* programma (algoritme uitgedrukt in een programmeertaal)\n",
    "* proces (programma in uitvoering; met bepaalde invoer)\n",
    "* toestand (van een proces)\n",
    "* resultaat (van een proces; bij bepaalde invoer)\n",
    "* resources (gebruikt door proces)\n",
    "\n",
    "Analogieën van deze begrippen, o.a.: koken, breien, route volgen, ..."
   ]
  },
  {
   "cell_type": "markdown",
   "metadata": {
    "collapsed": true
   },
   "source": [
    "* trace opstellen van een programma(deel)\n",
    "* in het bijzonder: met procedure-aanroepen\n",
    "\n",
    "Het opstellen van een trace is niet zo interessant als je geen middelen hebt voor \"control flow\": herhaling, procedures.\n",
    "We kunnen dan alleen maar de opeenvolging toelichten.\n",
    "Wat wel kan: in de trace de *toestand van de turtle* beschrijven: positie (x en y), hoek, en pen-up/down.\n"
   ]
  },
  {
   "cell_type": "markdown",
   "metadata": {
    "collapsed": true
   },
   "source": [
    "# Programma, processor, proces, en resultaat\n",
    "\n",
    "> Enkele begrippen rond programmeren komen we ook in het dagelijks leven tegen. Deze voorbeelden kunnen helpen om programmeren beter te begrijpen.\n",
    "\n",
    "Als je een taart wilt bakken, heb je een *recept* nodig. In het recept staat wat je nodig hebt: ingrediënten (bijvoorbeeld bloem en boter), en hulpmiddelen (zoals een kom, een mixer, en een oven). Het recept geeft stap voor stap aan hoe je van de ingrediënten, met deze hulpmiddelen, een taart bakt.\n",
    "\n",
    "Met een recept alleen gebeurt er nog niets: je hebt een *kok* nodig - iemand nodig die het recept kan uitvoeren. Deze heeft de bijbehorende *hulpmiddelen* nodig, en de *ingrediënten*. Daarna kan hij aan de slag gaan met het bakken van de taart. Het uitvoeren van de verschillende stappen van het bakken kost *tijd*. We noemen iets dat in de tijd verloopt een *proces*.\n",
    "\n",
    "Als alles goed gaat, heb je als *resultaat* van het bakken een taart. Aan de taart kun je niet meer zien hoe deze gemaakt is - welke stappen er gebruikt zijn, of hoe lang dit geduurd heeft. Maar als je de taart wilt opeten is dat ook niet je eerste vraag.\n",
    "\n",
    "We hebben in dit voorbeeld te maken met de volgende begrippen:\n",
    "\n",
    "* *script* (programma): stappenplan dat precies vastlegt welke stappen uitgevoerd moeten worden;\n",
    "* *actor* (processor): kan een script uitvoeren; dit kan een mens zijn, maar ook een machine (automaat);\n",
    "* *proces* - het uitvoeren van een script door een actor; bij een proces is er meestal sprake van:\n",
    "* *invoer* (input)\n",
    "* *uitvoer* (output, resultaat)\n",
    "* *hulpmiddelen* (resources)\n",
    "\n",
    "In het dagelijks leven vinden we meer voorbeelden van scripts, actoren en processen:\n",
    "\n",
    "| Script/Programma   | Proces | Actor/Processor |Resultaat |\n",
    "| ---         | ---    | ---       | ---      |\n",
    "| Recept      | Bakken | Kok       | Taart    |\n",
    "| Breipatroon | Breien | Herder    | Trui     |\n",
    "| Routebeschrijving | Reis    | Automobilist | Bestemming bereikt |\n",
    "| Orgelboek   | Afspelen | Draaiorgel | Muziek |\n",
    "| Optellen    | Rekenen | Boekhouder | Totaal     |\n",
    "\n",
    "De verschillende *scripts* zijn geschreven voor een bepaald soort *actor*. Een recept is geschreven in een taal die door een kok begrepen wordt. Als je wilt leren koken, dan moet je de recepten-taal (of koks-taal) leren begrijpen.\n",
    "\n",
    "Een script of programma voor een computer schrijven we in een *programmeertaal*. Dit script legt precies en volledig vast welke stappen de computer moet nemen bij het uitvoeren van het proces.\n",
    "\n",
    "Een computer voert de opdrachten in het programma uit precies en letterlijk uit. Een computer doet wat je zegt - en dat is misschien niet altijd wat je bedoelt. En omdat computers zo snel zijn, loopt het soms erg snel uit de hand.\n",
    "\n",
    "> Vb: (i) peanut butter jelly sandwich; (ii) tovenaarsleerling.\n",
    "\n",
    "\n",
    "### Wanneer begint de uitvoering van een programma?\n",
    "\n",
    "Eigenlijk moeten we naast programma, proces en resultaat nog een begrip invoeren: de *opdracht* om het programma uit te voeren. In de context van programmeren komt dat bijvoorbeeld overeen met een functie-aanroep.\n",
    "\n",
    "Hoe ziet dit eruit in de voorbeelden uit het dagelijks leven?\n",
    "\n",
    "In de browser is een knop (button) vaak gekoppeld aan een stukje programma (functie). Het indrukken van de knop, bijvoorbeeld door een muis-click, is dan de opdracht om dat stukje programma uit te voeren.\n",
    "\n",
    "In het kook-voorbeeld kan de chef-kok zijn assistent de opdracht geven voor het bereiden van een gerecht aan de hand van een bepaald recept. Dan kan bijvoorbeeld zijn: \"maak een kwart liter sauce bearnaise\". In dit geval is het belangrijk dat het recept een naam heeft. De assistent weet dan wat er bedoeld wordt, en kan eventueel in het kookboek het recept opzoeken.\n"
   ]
  },
  {
   "cell_type": "markdown",
   "metadata": {
    "collapsed": true
   },
   "source": [
    "## Vragen en opdrachten\n",
    "\n",
    "Geef van de volgende begrippen aan of dit een (i) algoritme/programma; (ii) een processor; (iii) een proces; (iv) een resultaat betreft.\n",
    "\n",
    "* recept; taart; kok; bakken\n",
    "* trui; wol; breinaalden; breien; herder\n",
    "* musicus; muziek (geluid); partituur (bladmuziek); bespelen van een piano.\n",
    "\n",
    "Geef bij de volgende processen aan wat (i) het programma/algoritme; (ii) de processor; (iii) het resultaat is:\n",
    "\n",
    "Breien:\n",
    "\n",
    "* [ ] script/programma\n",
    "* [ ] processor\n",
    "* [x] proces\n",
    "* [ ] resultaat\n",
    "\n",
    "\"Breien speelt zich af in de tijd\"\n",
    "\n",
    "Handleiding van een kast-bouwpakket:\n",
    "\n",
    "* [x] script/programma\n",
    "* [ ] processor\n",
    "* [ ] proces\n",
    "* [ ] resultaat\n",
    "\n",
    "Uit te voeren door een monteur, met een kast als resultaat.\n",
    "\n",
    "\n",
    "Autorit met routebeschrijving van Amsterdam naar Brussel:\n",
    "\n",
    "* [ ] script/programma\n",
    "* [ ] processor\n",
    "* [x] proces        \n",
    "* [ ] resultaat\n",
    "\n",
    "Een autorit speelt zich af in de tijd.\n",
    "\n",
    "Welke van deze processen zou ook door een machine (computer, robot) uitgevoerd kunnen worden? Wat zijn daarbij lastige problemen?"
   ]
  },
  {
   "cell_type": "markdown",
   "metadata": {},
   "source": [
    "## Meta-opmerkingen\n",
    "\n",
    "Waarom zijn deze begrippen belangrijk?\n",
    "\n",
    "* een programma beschrijft een proces, of liever gezegd: een verzameling processen. Het is essentieel om de relatie tussen een programma en de bijbehorende processen te begrijpen, in beide richtingen (van programma naar proces, en van proces naar programma).\n",
    "    * als een programma niet doet wat je bedoelt, betekent dat dat er een proces is dat niet verloopt zoals je bedoelt. Dat kun je alleen in het programma veranderen. Je hebt daarbij het onbedoelde gedrag van het proces als indicatie waar in het programma je iets zou moeten veranderen.\n",
    "    * debuggen doe je aan de hand van een proces; je maakt daarbij steeds de stap van het proces naar het programma, en omgekeerd.\n",
    "* je wilt dat je programma zich in alle gevallen goed gedraagt: dat is een uitspraak over alle mogelijke processen.\n",
    "    * een enkel proces (voorbeeld-uitvoering) geeft geen enkele garantie voor de andere mogelijke processen."
   ]
  },
  {
   "cell_type": "markdown",
   "metadata": {},
   "source": [
    "## Opmerkingen\n",
    "\n",
    "* computer (machine) doet wat je zegt, niet wat je bedoelt;\n",
    "    * vgl. Peanut butter/Jelly Sandwich\n",
    "* computer (machine) heeft daarover \"geen mening\" (wil niets, vindt niets, ...)"
   ]
  }
 ],
 "metadata": {
  "kernelspec": {
   "display_name": "Python 3",
   "language": "python",
   "name": "python3"
  },
  "language_info": {
   "codemirror_mode": {
    "name": "ipython",
    "version": 3
   },
   "file_extension": ".py",
   "mimetype": "text/x-python",
   "name": "python",
   "nbconvert_exporter": "python",
   "pygments_lexer": "ipython3",
   "version": "3.4.3"
  }
 },
 "nbformat": 4,
 "nbformat_minor": 0
}
