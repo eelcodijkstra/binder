{
 "cells": [
  {
   "cell_type": "markdown",
   "metadata": {},
   "source": [
    "# Inleiding Jupyter notebook\n",
    "\n",
    "Dit is een inleiding in het gebruik van het Jupyter Notebook.\n",
    "\n",
    "Een notebook bestaat uit een reeks *cellen*. Een cel kan tekst bevatten (zoals deze cel), of programmacode (zoals verderop).\n",
    "\n",
    "Een notebook kan *actief* zijn, dat wil zeggen verbonden met een \"kernel\" op een server. Een actief notebook kun je veranderen, en je kunt de code uitvoeren. De veranderingen worden op de server opgeslagen.\n",
    "\n",
    "> Let op: soms heb je te maken met een tijdelijke server. Je veranderingen verdwijnen dan weer als die server opgeruimd wordt.\n",
    "\n",
    "> Een niet-actief notebook kun je bekijken. Onder andere GitHub herkent het type van het notebook, en probeert dit leesbaar weer te geven.\n",
    "\n",
    "Als je een cel selecteert (bijvoorbeeld een muis-click binnen de cel), dan krijg je de broncode van die cel te zien. Deze kun je dan veranderen.\n",
    "\n",
    "In een actief notebook kun je de programmacode uitvoeren, door middel van de knoppen aan de bovenkant, of door in de geselecteerde cell Shift-Return te gebruiken. De bijbehorende uitvoer verschijnt dan onder de cel.\n",
    "\n",
    "> Probeer dit bij de volgende cel: (i) selecteer de volgende cel; (ii) geef Shift-Return"
   ]
  },
  {
   "cell_type": "code",
   "execution_count": null,
   "metadata": {
    "collapsed": false
   },
   "outputs": [],
   "source": [
    "hi = \"hello\"\n",
    "there = \"world\"\n",
    "print(hi + \" \" + there)"
   ]
  },
  {
   "cell_type": "markdown",
   "metadata": {},
   "source": [
    "## Handleiding voor de knoppen\n",
    "\n",
    "Onder de knop \"Help\" vind je de User Interface Tour. Voer deze uit.\n",
    "\n",
    "Bekijk ook de keyboard-shortcuts onder \"Help\". Probeer langzamerhand handig te worden in het gebruik daarvan (als je het eenvoudige gebruik begrijpt)."
   ]
  },
  {
   "cell_type": "markdown",
   "metadata": {},
   "source": [
    "## Navigeren\n",
    "\n",
    "Met de pijltjestoetsen kun je van de ene cel naar de andere navigeren. Je kunt ook een cel selecteren door met de muis binnen de cel te klikken."
   ]
  },
  {
   "cell_type": "markdown",
   "metadata": {},
   "source": [
    "## Tekst-opmaak: Markdown\n",
    "\n",
    "Je kunt de tekst in een geselecteerde cel veranderen. Als opmaaktaal gebruikt Jupyter \"Markdown\". Een eerste inleiding hiervoor vind je via: https://help.github.com/articles/markdown-basics/ (ook via \"Help\"). Je gaat weer terug naar de normale weergave door de cel uit te voeren, bijvoorbeeld via Shift-Return.\n",
    "\n",
    "Binnen Markdown kun je ook <em>HTML</em> gebruiken.\n",
    "\n",
    "> Selecteer deze cel; verander de tekst; en ga via Shift-Return weer naar de normale weergave."
   ]
  },
  {
   "cell_type": "markdown",
   "metadata": {},
   "source": [
    "## Aanmaken van een cel\n",
    "\n",
    "Je kunt een nieuwe cel aanmaken via de \"Insert\" opdracht in het menu.\n",
    "\n",
    "Het default-type van een cel is \"Code\". Als je dit wilt veranderen, dan kan dat via het dropdown-menu bovenin.\n",
    "\n",
    "> Een snellere methode is, als de cel actief is (in \"edit\" mode): (i) ESC - om de edit-mode te verlaten; (ii) m (voor Markdown) of y (voor Code); (iii) daarna weer selecteren om de edit-mode weer actief te maken."
   ]
  },
  {
   "cell_type": "markdown",
   "metadata": {},
   "source": [
    "## Over code-cellen: Python\n",
    "\n",
    "Dit is een Python Notebook: je ziet rechtsboven met welke *kernel* dit notebook verbonden is. De code-cellen worden dan, als je niets anders aangeeft, als Python-code uitgevoerd.\n",
    "\n",
    "De cellen vormen samen één programma. Een variabele of functie die in een eerdere cel gedefinieerd is, kun je in een volgende cel gebruiken. Hierdoor kun je een programma stap voor stap ontwikkelen."
   ]
  },
  {
   "cell_type": "code",
   "execution_count": null,
   "metadata": {
    "collapsed": false
   },
   "outputs": [],
   "source": [
    "print(hi + \" again\")"
   ]
  },
  {
   "cell_type": "markdown",
   "metadata": {},
   "source": [
    "### Herstarten van de kernel\n",
    "\n",
    "Soms is het handig om alle uitvoer van de code-cellen te verwijderen, en opnieuw te beginnen. Via het menu Kernel->Restart kun je alle uitvoer verwijderen, en opnieuw beginnen met de uitvoering van de code-cellen.\n",
    "\n",
    "-----"
   ]
  },
  {
   "cell_type": "markdown",
   "metadata": {},
   "source": [
    "## Bewaren van een notebook\n",
    "\n",
    "Als je werkt met een vaste server, dan kun je het notebook bewaren via de opdrachten in het File-menu. Je slaat de huidige versie op via `File->Save and Checkpoint`. Je verlaat het notebook via `File->Close and Halt`. Je kunt een volgende keer verder gaan met het notebook door dit te starten vanuit de \"Home\" pagina.\n",
    "\n",
    "Als je werkt met een tijdelijke server, dan wordt je notebook na enige tijd opgeruimd, met de bijbehorende bestanden. Als je je veranderingen in het notebook wilt bewaren, dan kan dat via `File->Download as IPython Notebook (.ipynb)`. Het `.ipynb`-bestand kun je dan een volgende keer uploaden. Je moet er wel voor zorgen dat je een naam gebruikt die geen conflict oplevert met andere notebooks."
   ]
  },
  {
   "cell_type": "markdown",
   "metadata": {},
   "source": [
    "## Aanmaken van een nieuw notebook\n",
    "\n",
    "Via het menu `File->New Notebook` kun je een nieuw notebook aanmaken. Hierbij kun je kiezen uit de kernels (programmeertalen) die op de huidige server beschikbaar zijn.\n",
    "\n",
    "Je kunt verwijzen naar het notebook met naam \"`My notebook`\" in dezelfde directory, via [My Notebook](./My Notebook.ipynb). (Selecteer deze cel om de Markdown-notatie te zien.)"
   ]
  },
  {
   "cell_type": "markdown",
   "metadata": {},
   "source": [
    "## Een overzicht van de beschikbare notebooks\n",
    "\n",
    "Op de \"home\"-pagina van de Jupyter notebook server vind je een overzicht van de bestanden, inclusief de beschikbare notebooks. Je kunt die pagina altijd krijgen door op het logo linksboven te klikken."
   ]
  },
  {
   "cell_type": "markdown",
   "metadata": {},
   "source": [
    "## Code-cellen voor gevorderden"
   ]
  },
  {
   "cell_type": "markdown",
   "metadata": {},
   "source": [
    "### Over code-cellen: shell\n",
    "\n",
    "Je kunt binnen een Python-programma (Unix/Linux-)shell-opdrachten uitvoeren, door het gebruik van een uitroepteken gevolgd door deze opdracht. Het resultaat is een string die je in het programma kunt gebruiken.\n",
    "\n",
    "Soms gebruik je dit alleen om een shell-opdracht uit te voeren."
   ]
  },
  {
   "cell_type": "code",
   "execution_count": null,
   "metadata": {
    "collapsed": false
   },
   "outputs": [],
   "source": [
    "list = !ls\n",
    "print(\"aantal bestanden: \" + str(len(list)))\n",
    "print(list)"
   ]
  },
  {
   "cell_type": "markdown",
   "metadata": {},
   "source": [
    "### Over code-cellen: magic\n",
    "\n",
    "Je kunt nog enkele andere talen gebruiken in een code-cel. Je gebruikt dan in de eerste regel een \"magic\" woord waarin je aangeeft in welke taal de rest van de cel uitgevoerd moet worden.\n",
    "\n",
    "* `%%bash` - bash-shell opdrachten (in de server)\n",
    "* `%%javascript` - javascript (in de browser, zie verderop)\n",
    "* `%%html` - in de browser)"
   ]
  },
  {
   "cell_type": "markdown",
   "metadata": {},
   "source": [
    "### Bash"
   ]
  },
  {
   "cell_type": "code",
   "execution_count": null,
   "metadata": {
    "collapsed": false
   },
   "outputs": [],
   "source": [
    "%%bash\n",
    "ls -l\n",
    "echo \"****\"\n",
    "cat README.md"
   ]
  },
  {
   "cell_type": "markdown",
   "metadata": {},
   "source": [
    "De opdrachten van de bash-shell worden uitgevoerd in de server, net als de Python-opdrachten. Je kunt daarmee de bestanden bewerken die ook door het Python-programma gebruikt worden."
   ]
  },
  {
   "cell_type": "markdown",
   "metadata": {},
   "source": [
    "### HTML"
   ]
  },
  {
   "cell_type": "code",
   "execution_count": null,
   "metadata": {
    "collapsed": false
   },
   "outputs": [],
   "source": [
    "%%html\n",
    "<h1>Hello World</h1>\n",
    "<div id=\"mydiv\">Welcome... </div>"
   ]
  },
  {
   "cell_type": "markdown",
   "metadata": {},
   "source": [
    "De html-code wordt verwerkt in de browser. De html-elementen die zo aan het notebook toegevoegd worden, zijn vanuit JavaScript (ook in de browser) bereikbaar."
   ]
  },
  {
   "cell_type": "markdown",
   "metadata": {},
   "source": [
    "### JavaScript"
   ]
  },
  {
   "cell_type": "code",
   "execution_count": null,
   "metadata": {
    "collapsed": false
   },
   "outputs": [],
   "source": [
    "%%javascript\n",
    "var elt = document.getElementById(\"mydiv\");\n",
    "elt.innerHTML = \"<p>Welcome... <em>again</em></p>\";\n",
    "elt.style.color = \"blue\";"
   ]
  },
  {
   "cell_type": "markdown",
   "metadata": {},
   "source": [
    "De JavaScript-code wordt ook verwerkt in de browser. Je kunt hiermee eventueel extra interactiviteit aan het notebook toevoegen.\n",
    "\n",
    "NB: elke JavaScript cel staat op zichzelf. Je kunt dus niet een variabele of functie die in de ene cel gedefinieerd wordt, zomaar in een volgende cel gebruiken.\n",
    "\n",
    "> Voor het gebruik van JavaScript in de browser geven we elders meer voorbeelden.\n",
    "\n",
    "Er is een versie van het Notebook die een JavaScript kernel in de server gebruikt. In dat geval is het gebruik vergelijkbaar met een Python notebook."
   ]
  }
 ],
 "metadata": {
  "kernelspec": {
   "display_name": "Python 3",
   "language": "python",
   "name": "python3"
  },
  "language_info": {
   "codemirror_mode": {
    "name": "ipython",
    "version": 3
   },
   "file_extension": ".py",
   "mimetype": "text/x-python",
   "name": "python",
   "nbconvert_exporter": "python",
   "pygments_lexer": "ipython3",
   "version": "3.4.3"
  }
 },
 "nbformat": 4,
 "nbformat_minor": 0
}
