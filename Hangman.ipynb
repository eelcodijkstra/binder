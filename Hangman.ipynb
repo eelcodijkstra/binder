{
 "cells": [
  {
   "cell_type": "markdown",
   "metadata": {},
   "source": [
    "## Hangman\n",
    "\n",
    "In dit notebook geven we een voorbeeld-uitwerking van een hangman-programma. We besteden veel aandacht aan de stappen die we nemen om tot het uiteindelijke resultaat te komen.\n",
    "\n",
    "### Spelregels\n",
    "\n",
    "Hangman is een interactief programma. Het doel voor de speler is om een woord te raden, in zo weinig mogelijk beurten. Bij elke beurt geeft de speler een letter; als de letter niet in het woord zit, gaat er een punt van zijn leven af. Als het totaal 0 is, dan heeft de speler verloren. Als de letter wel in het woord zit, krijgt hij het woord te zien met alle geraden letters op de juiste positie.\n",
    "\n",
    "Je kunt de score bijhouden als een getal, maar in het geval van Hangman/galgje is het gebruikelijk om een galg te tekenen: bij elke fout geraden letter voeg je een onderdeel aan de tekening van de galg toe.\n",
    "\n",
    "### Eerste analyse\n",
    "\n",
    "Op basis van een eerste analyse komen we tot de volgende deelproblemen:\n",
    "\n",
    "* bepalen van het woord dat geraden moet worden (bijv. uit een woordenboek);\n",
    "* inlezen van de letter van de speler;\n",
    "* controleren of de letter in het woord zit;\n",
    "* afdrukken van het woord met de geraden letters;\n",
    "* bijhouden van de score;\n",
    "* eventueel: tekenen van de galg\n",
    "* (en natuurlijk helemaal luxe: feedback met geluiden...)\n",
    "\n",
    "Door de oplossingen van deze deelproblemen te combineren, krijgen we een oplossing voor het oorspronkelijke probleem.\n"
   ]
  },
  {
   "cell_type": "markdown",
   "metadata": {},
   "source": [
    "```\n",
    "word = makeWord()\n",
    "letters = \"\"\n",
    "life = 7\n",
    "while life > 0:\n",
    "    c = guessLetter()\n",
    "    if c in word:\n",
    "        letters += c\n",
    "        guess = guessWord(word, letters)\n",
    "        if guess == word:\n",
    "            youWin()\n",
    "    else:\n",
    "        life -= 1\n",
    "        if life == 0:\n",
    "            youLoose()\n",
    "        \n",
    "youLoose() \n",
    "```"
   ]
  },
  {
   "cell_type": "markdown",
   "metadata": {},
   "source": [
    "De structuur van dit programma is niet triviaal:\n",
    "\n",
    "* we hebben te maken met een `while`-herhaling;\n",
    "* de voorwaarden voor het afronden van het spel zijn lastig: woord geraden of levens op. Deze komen op verschillende plaatsen in het programma aan de orde;\n"
   ]
  },
  {
   "cell_type": "code",
   "execution_count": null,
   "metadata": {
    "collapsed": false
   },
   "outputs": [],
   "source": [
    "def guessChar():\n",
    "    c = input(\"raad de volgende letter: \")\n",
    "    return c"
   ]
  },
  {
   "cell_type": "code",
   "execution_count": null,
   "metadata": {
    "collapsed": false
   },
   "outputs": [],
   "source": [
    "letter = guessChar()\n",
    "print(\"je gaf: \" + letter)"
   ]
  },
  {
   "cell_type": "markdown",
   "metadata": {},
   "source": [
    "We werken steeds met verschillende cellen: voor het definiëren van de functies en voor het testen van de functies. In het uiteindelijke programma kunnen we dan de functies gebruiken (aanroepen) in de wetenschap dat we deze al redelijk getest hebben.\n",
    "\n",
    "We maken hier geen onderscheid tussen letters en andere tekens: immers, als iemand een ander teken invoert, bijvoorbeeld een cijfer of een leesteken, dan zal dat ook niet in het woord voorkomen. Eigenlijk is een betere naam voor de functie: `guessChar()`."
   ]
  },
  {
   "cell_type": "code",
   "execution_count": null,
   "metadata": {
    "collapsed": false
   },
   "outputs": [],
   "source": [
    "print('e' in \"hi\")\n",
    "print('i' in 'hi')"
   ]
  },
  {
   "cell_type": "code",
   "execution_count": null,
   "metadata": {
    "collapsed": false
   },
   "outputs": [],
   "source": [
    "def guessedWord(word, letters):\n",
    "    str = \"\"\n",
    "    for i in range(len(word)):\n",
    "        if word[i] in letters:\n",
    "            str += word[i]\n",
    "        else:\n",
    "            str += \".\"\n",
    "    return(str)"
   ]
  },
  {
   "cell_type": "code",
   "execution_count": null,
   "metadata": {
    "collapsed": false
   },
   "outputs": [],
   "source": [
    "print(guessedWord(\"hallo\", \"ao\"))\n",
    "print(guessedWord(\"hallo\", \"l\"))"
   ]
  },
  {
   "cell_type": "markdown",
   "metadata": {},
   "source": [
    "Hoe bepalen we of het woord geraden is? Dat is als het af te drukken woord gelijk is aan het te raden woord.\n",
    "\n",
    "> Dit pleit nogmaals voor het gebruik van functies, in plaats van procedures... Je kunt met een functieresultaat nog van alles doen, terwijl een resultaat dat verwerkt is tot een actie (bijvoorbeeld een afdruk) \"weg\" is."
   ]
  },
  {
   "cell_type": "code",
   "execution_count": null,
   "metadata": {
    "collapsed": true
   },
   "outputs": [],
   "source": [
    "def makeWord():\n",
    "    return \"hallo\""
   ]
  },
  {
   "cell_type": "code",
   "execution_count": null,
   "metadata": {
    "collapsed": true
   },
   "outputs": [],
   "source": [
    "def youWin():\n",
    "    print(\"you win );\")\n",
    "    \n",
    "def youLoose():\n",
    "    print(\"you loose (:\")"
   ]
  },
  {
   "cell_type": "code",
   "execution_count": null,
   "metadata": {
    "collapsed": false
   },
   "outputs": [],
   "source": [
    "word = makeWord()\n",
    "letters = \"\"\n",
    "life = 7\n",
    "guess = guessedWord(word, letters)\n",
    "print(\"Word: \" + guess)\n",
    "\n",
    "while True:\n",
    "    c = guessChar()\n",
    "    if c in word:\n",
    "        letters += c\n",
    "        guess = guessedWord(word, letters)\n",
    "        print(\"Word: \" + guess) \n",
    "        if guess == word:\n",
    "            youWin()\n",
    "            break\n",
    "    else:\n",
    "        life -= 1\n",
    "        print(\"you have \" + str(life) + \" lifes remaining\")\n",
    "        if life == 0:\n",
    "            youLoose()\n",
    "            break\n"
   ]
  },
  {
   "cell_type": "markdown",
   "metadata": {},
   "source": [
    "Ik heb een paar keer de control structure van het programma herzien... en de rol van functies veranderd. Hoe kan ik dat duidelijk maken in het proces?"
   ]
  },
  {
   "cell_type": "code",
   "execution_count": null,
   "metadata": {
    "collapsed": true
   },
   "outputs": [],
   "source": []
  }
 ],
 "metadata": {
  "kernelspec": {
   "display_name": "Python 3",
   "language": "python",
   "name": "python3"
  },
  "language_info": {
   "codemirror_mode": {
    "name": "ipython",
    "version": 3
   },
   "file_extension": ".py",
   "mimetype": "text/x-python",
   "name": "python",
   "nbconvert_exporter": "python",
   "pygments_lexer": "ipython3",
   "version": "3.4.3"
  }
 },
 "nbformat": 4,
 "nbformat_minor": 0
}
