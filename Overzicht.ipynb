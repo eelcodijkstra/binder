{
 "cells": [
  {
   "cell_type": "markdown",
   "metadata": {},
   "source": [
    "## Overzicht van de verschillende notebooks in deze binder\n",
    "\n",
    "Deze binder bevat een aantal notebooks in het kader van de \"DOT programmeren\".\n",
    "\n",
    "* [Programma's, processen en resultaten](Processen.ipynb)\n",
    "* [Proces en toestand](Processen-1.ipynb)\n",
    "* Enkelvoudige waarden (getallen, strings) en expressies\n",
    "* Procedures en functies (en parameters?)\n",
    "* Conditionele opdrachten (if)\n",
    "* [Variabelen en toekenning](Variabelen.ipynb)\n",
    "* Namen, scope en levensduur\n",
    "* Samengestelde waarden: objecten\n",
    "* Samengestelde waarden: arrays (en indicering)"
   ]
  },
  {
   "cell_type": "markdown",
   "metadata": {},
   "source": [
    "## Belangrijke concepten\n",
    "\n",
    "Als je leert programmeren moet je een groot aantal nieuwe concepten beheersen. Het is belangrijk dat je deze concepten echt begrijpt en beheerst, zodat je deze met meer dan 95% betrouwbaarheid kunt gebruiken. Deze concepten vormen de bouwstenen voor de programma's die je schrijft, en voor de concepten die je later tegenkomt.\n",
    "\n",
    "Het doel van elk notebook is om (i) een concept uit te leggen; (ii) te toetsen of je het concept begrepen hebt; (iii) oefenmateriaal te bieden om het concept te beheersen, door middel van \"deliberate practice\".\n",
    "\n",
    "> Het formaat van een notebook is zeer geschikt voor (i) en (ii). Mogelijk moeten we voor (iii) ook andere middelen gebruiken.\n",
    "\n",
    "> Voor het uitleggen van concepten kunnen we deze notebooks eventueel aanvullen met video-materiaal.\n",
    "\n",
    "Deze onderwerpen vormen een aanvulling op de gewone (interactieve) tutorials: die zijn vooral gericht op praktisch werken, en hebben vaak niet de diepgang om een concept uitgebreid te behandelen.\n",
    "\n",
    "We proberen de concepten zoveel mogelijk één voor één te behandelen. De oefeningen kun je ook zien als \"etudes\": technische oefeningen die op een enkel aspect gericht zijn."
   ]
  },
  {
   "cell_type": "markdown",
   "metadata": {},
   "source": [
    "### Python en JavaScript\n",
    "\n",
    "We ondersteunen zowel Python als JavaScript als inleidende programmeertaal. De eerste versie van deze notebooks is gericht op Python. Later komt de JavaScript-versie beschikbaar."
   ]
  },
  {
   "cell_type": "markdown",
   "metadata": {},
   "source": [
    "### Variabelen en toekenning\n"
   ]
  },
  {
   "cell_type": "code",
   "execution_count": null,
   "metadata": {
    "collapsed": true
   },
   "outputs": [],
   "source": []
  }
 ],
 "metadata": {
  "kernelspec": {
   "display_name": "Python 3",
   "language": "python",
   "name": "python3"
  },
  "language_info": {
   "codemirror_mode": {
    "name": "ipython",
    "version": 3
   },
   "file_extension": ".py",
   "mimetype": "text/x-python",
   "name": "python",
   "nbconvert_exporter": "python",
   "pygments_lexer": "ipython3",
   "version": "3.4.3"
  }
 },
 "nbformat": 4,
 "nbformat_minor": 0
}
