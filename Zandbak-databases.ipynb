{
 "cells": [
  {
   "cell_type": "code",
   "execution_count": null,
   "metadata": {
    "collapsed": true
   },
   "outputs": [],
   "source": [
    "import sqlite3\n",
    "import os.path"
   ]
  },
  {
   "cell_type": "code",
   "execution_count": null,
   "metadata": {
    "collapsed": false
   },
   "outputs": [],
   "source": [
    "def create_or_open_db(filename):\n",
    "    file_exists = os.path.isfile(filename)\n",
    "    conn = sqlite3.connect(filename)\n",
    "    if file_exists:\n",
    "        print(''' \"{}\" database successfully opened '''.format(filename))\n",
    "    else:\n",
    "        print(''' \"{}\" database successfully created '''.format(filename))\n",
    "    return conn"
   ]
  },
  {
   "cell_type": "code",
   "execution_count": null,
   "metadata": {
    "collapsed": false
   },
   "outputs": [],
   "source": [
    "conn = create_or_open_db('mycds.sqlite')\n",
    "cur = conn.cursor()\n",
    "cur.execute('SELECT SQLITE_VERSION()')\n",
    "print('version:', cur.fetchone()) "
   ]
  },
  {
   "cell_type": "code",
   "execution_count": null,
   "metadata": {
    "collapsed": false
   },
   "outputs": [],
   "source": [
    "def create_tbl_artists(conn):\n",
    "    sql = '''create table if not exists Artists(\n",
    "            ArtistID INTEGER PRIMARY KEY,\n",
    "            ArtistName TEXT);'''\n",
    "    conn.execute(sql) # shortcut for conn.cursor().execute(sql)\n",
    "    print(\"Created Artists table successfully\")\n",
    "\n",
    "create_tbl_artists(conn)"
   ]
  },
  {
   "cell_type": "code",
   "execution_count": null,
   "metadata": {
    "collapsed": false
   },
   "outputs": [],
   "source": [
    "conn.execute(\"insert into Artists (ArtistID, ArtistName) values (NULL,'Peter Gabriel');\")\n",
    "conn.execute(\"insert into Artists (ArtistName) values ('Bruce Hornsby');\")"
   ]
  },
  {
   "cell_type": "markdown",
   "metadata": {},
   "source": [
    "Je kunt handig gebruik maken van de Python template notatie (*hier nog uit te werken*):"
   ]
  },
  {
   "cell_type": "code",
   "execution_count": null,
   "metadata": {
    "collapsed": false
   },
   "outputs": [],
   "source": [
    "conn.execute(\"insert into Artists (ArtistID, ArtistName) values (?, ?);\",(3, 'Lyle Lovett'))"
   ]
  },
  {
   "cell_type": "code",
   "execution_count": null,
   "metadata": {
    "collapsed": false
   },
   "outputs": [],
   "source": [
    "names = [{'name':'Beach Boys'},{'name':'Santana'}]\n",
    "conn.executemany(\"insert into Artists (ArtistName) values (:name);\", names)"
   ]
  },
  {
   "cell_type": "markdown",
   "metadata": {},
   "source": [
    "Save changes:"
   ]
  },
  {
   "cell_type": "code",
   "execution_count": null,
   "metadata": {
    "collapsed": true
   },
   "outputs": [],
   "source": [
    "conn.commit()"
   ]
  },
  {
   "cell_type": "code",
   "execution_count": null,
   "metadata": {
    "collapsed": true
   },
   "outputs": [],
   "source": [
    "def print_tbl(conn, tablename):\n",
    "    #cur = conn.cursor()\n",
    "    #cur.execute(\"select * from Artists;\")\n",
    "    #for row in cur:\n",
    "    for row in conn.execute(\"select * from {0};\".format(tablename)):\n",
    "        print(row)"
   ]
  },
  {
   "cell_type": "code",
   "execution_count": null,
   "metadata": {
    "collapsed": false
   },
   "outputs": [],
   "source": [
    "print_tbl(conn, \"Artists\")"
   ]
  },
  {
   "cell_type": "code",
   "execution_count": null,
   "metadata": {
    "collapsed": true
   },
   "outputs": [],
   "source": [
    "import pandas as pd"
   ]
  },
  {
   "cell_type": "code",
   "execution_count": null,
   "metadata": {
    "collapsed": true
   },
   "outputs": [],
   "source": []
  },
  {
   "cell_type": "code",
   "execution_count": null,
   "metadata": {
    "collapsed": false
   },
   "outputs": [],
   "source": [
    "def create_tbl_CDs(conn):\n",
    "    sql = '''create table if not exists CDs(\n",
    "            CDID INTEGER PRIMARY KEY AUTOINCREMENT,\n",
    "            ArtistID INTEGER NOT NULL,\n",
    "            Title TEXT NOT NULL,\n",
    "            Date TEXT);'''\n",
    "    conn.execute(sql) # shortcut for conn.cursor().execute(sql)\n",
    "    print(\"Created CDs table successfully\")"
   ]
  },
  {
   "cell_type": "code",
   "execution_count": null,
   "metadata": {
    "collapsed": false
   },
   "outputs": [],
   "source": [
    "create_tbl_CDs(conn)"
   ]
  },
  {
   "cell_type": "code",
   "execution_count": null,
   "metadata": {
    "collapsed": false
   },
   "outputs": [],
   "source": [
    "cd = (1,'So','1984')\n",
    "sql = \"insert into CDs (ArtistID,Title,Date) values (?,?,?);\"\n",
    "cur = conn.cursor()\n",
    "cur.execute(sql, cd)\n",
    "print(cur.lastrowid)"
   ]
  },
  {
   "cell_type": "code",
   "execution_count": null,
   "metadata": {
    "collapsed": false
   },
   "outputs": [],
   "source": [
    "lst = [(1,'Us','1992'),\n",
    "       (2,'The Way It Is','1986'),\n",
    "       (2,'Scenes from the Southside','1990')]\n",
    "cur.executemany(\"insert into CDs (ArtistID,Title,Date) values (?,?,?);\", lst)\n",
    "print(cur.lastrowid)"
   ]
  },
  {
   "cell_type": "code",
   "execution_count": null,
   "metadata": {
    "collapsed": true
   },
   "outputs": [],
   "source": [
    "sql = \"insert into CDs (ArtistID,Title,Date) values (:id,:title,:date);\"\n",
    "dict = [{'id':1,'title':'Security','date':'1990'},\n",
    "        {'id':3,'title':'Joshua Judges Ruth','date':'1992'},\n",
    "        {'id':4,'title':'Pet Sounds','date':'1966'}]\n",
    "cur.executemany(sql, dict)\n",
    "conn.commit()"
   ]
  },
  {
   "cell_type": "code",
   "execution_count": null,
   "metadata": {
    "collapsed": false
   },
   "outputs": [],
   "source": [
    "# save into the DB and print\n",
    "conn.commit()\n",
    "print_tbl(conn, \"CDs\")"
   ]
  },
  {
   "cell_type": "code",
   "execution_count": null,
   "metadata": {
    "collapsed": false
   },
   "outputs": [],
   "source": [
    "from sqlalchemy import create_engine # database connection"
   ]
  },
  {
   "cell_type": "code",
   "execution_count": null,
   "metadata": {
    "collapsed": false
   },
   "outputs": [],
   "source": [
    "disk_engine = create_engine('sqlite:///mycds.sqlite')"
   ]
  },
  {
   "cell_type": "code",
   "execution_count": null,
   "metadata": {
    "collapsed": false
   },
   "outputs": [],
   "source": [
    "df = pd.read_sql_query('SELECT * FROM Artists LIMIT 3', disk_engine)\n",
    "df.head()"
   ]
  },
  {
   "cell_type": "code",
   "execution_count": null,
   "metadata": {
    "collapsed": false
   },
   "outputs": [],
   "source": [
    "df = pd.read_sql_query('SELECT * FROM CDs', disk_engine)\n",
    "df.head(10)"
   ]
  },
  {
   "cell_type": "code",
   "execution_count": null,
   "metadata": {
    "collapsed": false
   },
   "outputs": [],
   "source": [
    "df = pd.read_sql_query('SELECT * FROM CDs WHERE Date=1990', disk_engine)\n",
    "df.head(10)"
   ]
  },
  {
   "cell_type": "code",
   "execution_count": null,
   "metadata": {
    "collapsed": false
   },
   "outputs": [],
   "source": [
    "cur = conn.cursor()    \n",
    "cur.execute(\"SELECT * FROM CDs\")\n",
    "\n",
    "rows = cur.fetchall()\n",
    "\n",
    "for row in rows:\n",
    "        print(row)"
   ]
  },
  {
   "cell_type": "code",
   "execution_count": null,
   "metadata": {
    "collapsed": false
   },
   "outputs": [],
   "source": [
    "df = pd.DataFrame(rows, columns=[\"CDID\", \"ArtistID\", \"title\", \"date\"])"
   ]
  },
  {
   "cell_type": "code",
   "execution_count": null,
   "metadata": {
    "collapsed": false
   },
   "outputs": [],
   "source": [
    "df.head()"
   ]
  },
  {
   "cell_type": "code",
   "execution_count": null,
   "metadata": {
    "collapsed": false
   },
   "outputs": [],
   "source": [
    "rows"
   ]
  },
  {
   "cell_type": "code",
   "execution_count": null,
   "metadata": {
    "collapsed": false,
    "scrolled": false
   },
   "outputs": [],
   "source": [
    "from IPython.display import display, HTML\n",
    "\n",
    "# Assuming that dataframes df1 and df2 are already defined:\n",
    "print(\"Dataframe a:\")\n",
    "display(df)\n",
    "print(\"Dataframe b:\")\n",
    "HTML(df.to_html())\n",
    "display(rows)"
   ]
  },
  {
   "cell_type": "code",
   "execution_count": null,
   "metadata": {
    "collapsed": false
   },
   "outputs": [],
   "source": [
    "!sqlite3 -help"
   ]
  },
  {
   "cell_type": "code",
   "execution_count": null,
   "metadata": {
    "collapsed": false
   },
   "outputs": [],
   "source": [
    "%%bash\n",
    "sqlite3 mycds.sqlite\n",
    ".schema Artists\n",
    "SELECT * FROM Artists;\n",
    ".tables\n",
    ".schema CDs\n",
    "SELECT * FROM CDs;\n",
    ".quit"
   ]
  },
  {
   "cell_type": "code",
   "execution_count": null,
   "metadata": {
    "collapsed": false
   },
   "outputs": [],
   "source": [
    "sql = \"SELECT name, sql FROM sqlite_master WHERE type='table' ORDER BY name;\"\n",
    "cur.execute(sql)\n",
    "tables = cur.fetchall()\n",
    "\n",
    "display(tables)"
   ]
  },
  {
   "cell_type": "code",
   "execution_count": null,
   "metadata": {
    "collapsed": false
   },
   "outputs": [],
   "source": [
    "sql = \"PRAGMA table_info(Artists);\"\n",
    "cur.execute(sql)\n",
    "headers = cur.fetchall()\n",
    "\n",
    "display(headers)"
   ]
  },
  {
   "cell_type": "code",
   "execution_count": null,
   "metadata": {
    "collapsed": true
   },
   "outputs": [],
   "source": []
  },
  {
   "cell_type": "code",
   "execution_count": null,
   "metadata": {
    "collapsed": true
   },
   "outputs": [],
   "source": []
  },
  {
   "cell_type": "code",
   "execution_count": null,
   "metadata": {
    "collapsed": true
   },
   "outputs": [],
   "source": []
  }
 ],
 "metadata": {
  "kernelspec": {
   "display_name": "Python 3",
   "language": "python",
   "name": "python3"
  },
  "language_info": {
   "codemirror_mode": {
    "name": "ipython",
    "version": 3
   },
   "file_extension": ".py",
   "mimetype": "text/x-python",
   "name": "python",
   "nbconvert_exporter": "python",
   "pygments_lexer": "ipython3",
   "version": "3.4.3"
  }
 },
 "nbformat": 4,
 "nbformat_minor": 0
}
