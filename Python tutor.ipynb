{
 "cells": [
  {
   "cell_type": "markdown",
   "metadata": {},
   "source": [
    "## Over Python Tutor in Jupyter Notebooks\n",
    "\n",
    "Python tutor is een programma om de uitvoering (executie) van een Python-programma te visualiseren. Je kunt het programma stap voor stap uitvoeren, vooruit en achteruit. Bij elke stap zie je de toestand van het programma: alle variabelen die actief zijn.\n",
    "\n",
    "* [Python tutor](http://www.pythontutor.com)"
   ]
  },
  {
   "cell_type": "markdown",
   "metadata": {},
   "source": [
    "## In Jupyter notebooks\n",
    "\n",
    "Voordat je een lokale versie van Python tutor aan het notebook kunt toevoegen, moet je eerst de `metakernel` library importeren. Voer hiervoor de onderstaande cel uit (bijvoorbeeld door Shift-Return als de cel geselecteerd is, of met de \"run\" button hierboven).\n",
    "\n",
    "NB: dit resulteert in een foutmelding, maar dat is voor Python tutor niet van belang."
   ]
  },
  {
   "cell_type": "code",
   "execution_count": null,
   "metadata": {
    "collapsed": false
   },
   "outputs": [],
   "source": [
    "from metakernel import register_ipython_magics\n",
    "register_ipython_magics()"
   ]
  },
  {
   "cell_type": "markdown",
   "metadata": {},
   "source": [
    "Hierna kunnen we in een code-cel een python tutor gebruiken, door op de eerste regel de *magische code* `%%tutor` te gebruiken. De rest van de cel is dan de code die door python tutor gebruikt wordt. Je kunt de code in de cell op de normale notebook-manier aanpassen en weer opnieuw uitvoeren. Je krijgt dan een nieuwe versie van de tutor.\n",
    "\n",
    "De programmacode die in de tutor uitgevoerd wordt, is niet verbonden met de rest van de Python-code in het notebook. Je kunt dit alleen als een lokaal voorbeeld gebruiken."
   ]
  },
  {
   "cell_type": "code",
   "execution_count": null,
   "metadata": {
    "collapsed": false
   },
   "outputs": [],
   "source": [
    "%%tutor\n",
    "\n",
    "def square(x):\n",
    "    return x * x\n",
    "\n",
    "a = 4\n",
    "b = square(a)\n",
    "print(\"square(\" + str(a) + \")=\" + str(b))"
   ]
  },
  {
   "cell_type": "markdown",
   "metadata": {},
   "source": [
    "Nog een voorbeeld:"
   ]
  },
  {
   "cell_type": "code",
   "execution_count": null,
   "metadata": {
    "collapsed": false
   },
   "outputs": [],
   "source": [
    "%%tutor\n",
    "\n",
    "list = []\n",
    "for i in range(5):\n",
    "    list.append(i * i)\n"
   ]
  },
  {
   "cell_type": "code",
   "execution_count": null,
   "metadata": {
    "collapsed": true
   },
   "outputs": [],
   "source": []
  }
 ],
 "metadata": {
  "kernelspec": {
   "display_name": "Python 3",
   "language": "python",
   "name": "python3"
  },
  "language_info": {
   "codemirror_mode": {
    "name": "ipython",
    "version": 3
   },
   "file_extension": ".py",
   "mimetype": "text/x-python",
   "name": "python",
   "nbconvert_exporter": "python",
   "pygments_lexer": "ipython3",
   "version": "3.4.3"
  }
 },
 "nbformat": 4,
 "nbformat_minor": 0
}
