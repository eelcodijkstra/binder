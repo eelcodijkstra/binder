{
 "cells": [
  {
   "cell_type": "markdown",
   "metadata": {},
   "source": [
    "## Variabelen en toekenning in Python\n",
    "\n",
    "* [Terug naar de index.](Overzicht.ipynb)\n",
    "\n",
    "In dit notebook behandelen we variabelen en toekenning (assignment) in Python.\n",
    "\n",
    "We hebben eerder kennisgemaakt met *elementaire waarden* - zoals getallen en strings. Deze kunnen we gebruiken in *expressies*."
   ]
  },
  {
   "cell_type": "markdown",
   "metadata": {},
   "source": [
    "Een variabele heeft een *naam* en een *waarde*:\n",
    "\n",
    "* Als je de *naam van een variabele gebruikt* in een expressie, dan wordt de *waarde* van die variabele gebruikt voor het uitrekenen van deze expressie. \n",
    "* Door middel van toekenning (assignment) kun je de variabele een waarde geven. Je overschrijft daarmee de vorige waarde van die variabele.\n",
    "* Je maakt (in Python) een nieuwe variabele aan door aan een nieuwe naam een waarde toe te kennen.\n",
    "\n",
    "Een toekenning heeft de vorm \n",
    "\n",
    "> `var = expr`\n",
    "\n",
    "De betekenis hiervan is:\n",
    "\n",
    "1. reken de expressie `expr` rechts uit\n",
    "2. ken dit resultaat toe aan de variabele `var` links.\n",
    "\n",
    "Voorbeelden:\n",
    "\n",
    "* De expressie `y * 2 + 1`, waarbij `y` de waarde `12` heeft, geeft `25` als resultaat.\n",
    "* De toekenning `x = y * 2 + 1`, waarbij `y * 2 + 1` de waarde `25` heeft, kent de waarde `25` toe aan `x`.\n",
    "* De toekenning `som = x + y;` voert de nieuwe variabele `som` in.\n",
    "\n",
    "> Een variabele komt overeen met een lokatie in het geheugen van de computer. Door middel van toekenning plaats je een andere waarde in deze geheugenlokatie. De Python-interpreter zorgt ervoor dat de naam van de variabele omgezet wordt in het *adres* van de geheugenlokatie.\n",
    "\n",
    "Het symbool `=` spreek je uit als *wordt* - bijvoorbeeld `x = y`: *x wordt y*.\n",
    "\n",
    "\n"
   ]
  },
  {
   "cell_type": "code",
   "execution_count": null,
   "metadata": {
    "collapsed": true
   },
   "outputs": [],
   "source": [
    "x = 10\n",
    "y = 23\n",
    "print(\"x=\" + str(x) + \" y=\" + str(y))\n",
    "x = y\n",
    "print(\"x=\" + str(x) + \" y=\" + str(y))"
   ]
  },
  {
   "cell_type": "markdown",
   "metadata": {},
   "source": [
    "In dit voorbeeld zien we twee eenvoudige voorbeelden van expressies: (i) een letterlijke waarde, zoals `10` of `23`; (ii) een variabele, zoals `x` of `y`.\n",
    "\n",
    "Maar voor een expressie kunnen we ook een ingewikkelder uitdrukking gebruiken, bijvoorbeeld `y * 2 + 1`:"
   ]
  },
  {
   "cell_type": "code",
   "execution_count": 3,
   "metadata": {
    "collapsed": false
   },
   "outputs": [
    {
     "name": "stdout",
     "output_type": "stream",
     "text": [
      "x=47 y=23\n"
     ]
    }
   ],
   "source": [
    "x = y * 2 + 1\n",
    "print(\"x=\" + str(x) + \" y=\" + str(y))"
   ]
  },
  {
   "cell_type": "markdown",
   "metadata": {},
   "source": [
    "De variabele links kan ook gebruikt worden in de expressie rechts. Bedenk: eerst wordt de expressie uitgerekend, dan wordt het resultaat toegekend aan de variabele."
   ]
  },
  {
   "cell_type": "code",
   "execution_count": 4,
   "metadata": {
    "collapsed": false
   },
   "outputs": [
    {
     "name": "stdout",
     "output_type": "stream",
     "text": [
      "x=95 y=23\n"
     ]
    }
   ],
   "source": [
    "x = x * 2 + 1\n",
    "print(\"x=\" + str(x) + \" y=\" + str(y))"
   ]
  },
  {
   "cell_type": "markdown",
   "metadata": {},
   "source": [
    "Dit is een vorm die je vaak tegen zult komen, in het bijzonder in de eenvoudige vorm: `x = x + 1`. Dit gebruik je bijvoorbeeld om een *teller* op te hogen.\n",
    "\n",
    "> We moeten het concept van een teller dan nog wel uitleggen."
   ]
  },
  {
   "cell_type": "code",
   "execution_count": 3,
   "metadata": {
    "collapsed": false
   },
   "outputs": [
    {
     "name": "stderr",
     "output_type": "stream",
     "text": [
      "/Users/eelco/anaconda/envs/py34/lib/python3.4/site-packages/IPython/html.py:14: ShimWarning: The `IPython.html` package has been deprecated. You should import from `notebook` instead. `IPython.html.widgets` has moved to `ipywidgets`.\n",
      "  \"`IPython.html.widgets` has moved to `ipywidgets`.\", ShimWarning)\n"
     ]
    }
   ],
   "source": [
    "from metakernel import register_ipython_magics\n",
    "register_ipython_magics()"
   ]
  },
  {
   "cell_type": "code",
   "execution_count": 4,
   "metadata": {
    "collapsed": false
   },
   "outputs": [
    {
     "data": {
      "text/html": [
       "\n",
       "        <iframe\n",
       "            width=\"100%\"\n",
       "            height=\"500\"\n",
       "            src=\"https://pythontutor.com/iframe-embed.html#code=%0Ax%20%3D%2010%0Ay%20%3D%2023%0Aprint%28%22x%3D%22%20%2B%20str%28x%29%20%2B%20%22%20y%3D%22%20%2B%20str%28y%29%29%0Ax%20%3D%20y%0Aprint%28%22x%3D%22%20%2B%20str%28x%29%20%2B%20%22%20y%3D%22%20%2B%20str%28y%29%29&origin=opt-frontend.js&cumulative=false&heapPrimitives=false&textReferences=false&py=3&rawInputLstJSON=%5B%5D&curInstr=0&codeDivWidth=350&codeDivHeight=400\"\n",
       "            frameborder=\"0\"\n",
       "            allowfullscreen\n",
       "        ></iframe>\n",
       "        "
      ],
      "text/plain": [
       "<IPython.lib.display.IFrame at 0x105261438>"
      ]
     },
     "metadata": {},
     "output_type": "display_data"
    }
   ],
   "source": [
    "%%tutor\n",
    "\n",
    "x = 10\n",
    "y = 23\n",
    "print(\"x=\" + str(x) + \" y=\" + str(y))\n",
    "x = y\n",
    "print(\"x=\" + str(x) + \" y=\" + str(y))"
   ]
  },
  {
   "cell_type": "markdown",
   "metadata": {},
   "source": [
    "## Aanmaken van een nieuwe variabele (declaratie)\n",
    "\n",
    "In Python maak je een nieuwe variabele aan door een toekenning aan een nieuwe naam. In andere talen heb je daarvoor de *variabele-declaratie*: een notatie om aan te geven dat je een nieuwe variabele invoert.\n",
    "\n",
    "* JavaScript: `var x = 10;` of `let x = 10;`\n",
    "* Java: `int x = 10;`\n"
   ]
  },
  {
   "cell_type": "markdown",
   "metadata": {},
   "source": [
    "## Namen van variabelen\n",
    "\n",
    "We moeten precies weten welke variabele we bedoelen als we een naam in een programma gebruiken. Als we eisen dat allen namen uniek moeten zijn, dan \n",
    "\n",
    "### Globale namen - globale variabelen\n",
    "\n",
    "* \"Global frame\" - met de globale variabelen\n",
    "\n",
    "### Lokale namen\n",
    "\n",
    "* \"Local frame\" - met de lokale variabelen van een function-*instantie* (\"aangeroepen functie\", function activation)\n",
    "\n"
   ]
  },
  {
   "cell_type": "markdown",
   "metadata": {},
   "source": [
    "## Modellen en analogieën\n",
    "\n",
    "Je kunt een variabele vergelijken met een lade met een label: op het label staat de naam van de variabele, in de lade vind je de waarde - bijvoorbeeld op een papiertje. Het gebruik van de variabele betekent dan dat je de waarde van het papiertje overschrijft. De toekenning van een waarde aan de variabele betekent dat je de oude waarde uitgomt, en overschrijft met de nieuwe waarde.\n",
    "\n",
    "> Zo'n analogie gaat nooit helemaal op: een variabele bevat altijd precies één waarde. Het overschrijven van de waarde betekent dat er geen spoor van de vorige waarde overblijft.\n",
    "\n",
    "Je kunt de variabelen van een functie, of op het globale niveau, vergelijken met een ladenkast.\n",
    "\n",
    "Je kunt het geheugen van een computer vergelijken met een ladenkast. "
   ]
  },
  {
   "cell_type": "markdown",
   "metadata": {},
   "source": [
    "## Relatie tussen variabele en parameter\n",
    "\n",
    "* parameter: naam gekoppeld aan waarde\n",
    "* \"toekenning\" gebeurt bij de aanroep van de functie\n",
    "* (je kunt een parameter ook als lokale variabele gebruiken...)"
   ]
  },
  {
   "cell_type": "markdown",
   "metadata": {
    "collapsed": true
   },
   "source": [
    "## Opmerkingen\n",
    "\n",
    "Python gebruikt het symbool `=` voor toekenning. Dit spreek je uit als *wordt* (*becomes*). De keuze voor dit symbool lijkt niet zo handig: het is een symmetrisch symbool voor een a-symmetrische opdracht. Dit symbool is gekozen in de (Amerikaanse) traditie van Fortran en C. In andere \"klassieke\" programmeertalen zoals Algol60 en Pascal gebruik je het symbol `:=` voor toekenning. In APL is dit het symbool &#8592; (pijltje naar links). Deze symbolen geven beter de richting van de toekenning aan."
   ]
  },
  {
   "cell_type": "markdown",
   "metadata": {},
   "source": [
    "## Mogelijke misverstanden\n",
    "\n",
    "* een variabele in een programmeertaal is heel anders dan een \"variabele\" in een wiskundige formule. Een \"variabele\" $x$ in een vergelijking $a \\cdot x + b = 0$ is een *onbekende waarde*. Deze kun je oplossen - bijvoorbeeld $x = -b/a$.\n",
    "* een andere vorm van wiskundige \"variabelen\" kom je tegen bij de symbolen voor sommatie of integratie. In dat geval gaat het om een \"gebonden variabele\", waarmee je het *domein* van de sommatie of integratie doorloopt."
   ]
  },
  {
   "cell_type": "markdown",
   "metadata": {},
   "source": [
    "## Meta-opmerkingen\n",
    "\n",
    "* het vaste stramien dat leerlingen moeten leren hanteren is: (i) reken de expressie uit; (ii) ken de waarde toe aan de variabele.\n",
    "* dit kunnen we eventueel ook weergeven in een trace-schema. We wisselen hierbij de regels af met de waarden van de variabelen en de opdrachten: op die manier is steeds duidelijk wat de waarden van de variabelen voor en na de opdracht zijn.\n",
    "\n",
    "| opdracht    | `x`  | `y`  | expr | opmerkingen |\n",
    "| :---        | :--- | :--- | :--- | :---        |\n",
    "|             | 17   | 12   |      | *begintoestand* |\n",
    "| `x = y * 2` |      |      | `y * 2` = 12 * 2 = 24 | *uitvoering van de eerste opdracht* |\n",
    "|             | 24   | 12   |      | *toestand na eerste opdracht* |\n",
    "| `y = x + 1` |      |      | `x + 1` = 24 + 1 = 25 | |\n",
    "|             | 24   | 25   |      | |\n",
    "| `x = y * 2` |      |      | `y * 2` = 25 * 2 = 50 | |\n",
    "|             | 50   | 25   |      | *eindtoestand* |\n",
    "\n",
    "* We kunnen ook strings als elementaire waarden gebruiken. Een nadeel is dat we dan al snel met grote waarden te maken hebben. Maar we kunnen wel een enkele oefening daarvoor toevoegen.\n",
    "\n",
    "In de notatie van \"tutor\" zie je de globale variabelen en de variabelen per function steeds in een \"frame\". De linkerkolom daarvan bevat de namen van de variabelen; de rechter kolom de waarden van die variabelen. Om de waarde van een variabele is een kader getekend: dit is een \"geheugencel\", met daarin de betreffende waarde. De naam zelf staat niet in het geheugen: dit is de naam van de geheugencel, door de Python interpreter wordt dit omgezet in het adres van de geheugencel."
   ]
  },
  {
   "cell_type": "markdown",
   "metadata": {
    "collapsed": true
   },
   "source": [
    "## Opdrachten\n",
    "\n",
    "* verwissel door middel van een reeks toekenningen de waarden van de variabelen `x` en `y`: na afloop heeft `x` de oorspronkelijke waarde van `y`, en `x` de oorspronkelijke waarde van `y`. *Hint*: je mag hierbij een extra hulp-variabele gebruiken.\n",
    "* sorteer twee variabelen `x` en `y` door middel van toekenningen en conditionele opdrachten (`if`): na afloop geldt dat `x <= y`, en de waarden `{x, y}` zijn de oorspronkelijke waarden. *Hint*: onder welke voorwaarde moet je de waarden van `x` en `y` omwisselen, en onder welke voorwaarden kunnen ze gelijk blijven?\n",
    "* idem, nu voor drie variabelen."
   ]
  },
  {
   "cell_type": "code",
   "execution_count": null,
   "metadata": {
    "collapsed": true
   },
   "outputs": [],
   "source": []
  }
 ],
 "metadata": {
  "kernelspec": {
   "display_name": "Python 3",
   "language": "python",
   "name": "python3"
  },
  "language_info": {
   "codemirror_mode": {
    "name": "ipython",
    "version": 3
   },
   "file_extension": ".py",
   "mimetype": "text/x-python",
   "name": "python",
   "nbconvert_exporter": "python",
   "pygments_lexer": "ipython3",
   "version": "3.4.3"
  }
 },
 "nbformat": 4,
 "nbformat_minor": 0
}
